{
 "cells": [
  {
   "cell_type": "code",
   "execution_count": 1,
   "metadata": {
    "colab": {
     "base_uri": "https://localhost:8080/",
     "height": 64
    },
    "colab_type": "code",
    "executionInfo": {
     "elapsed": 1861,
     "status": "ok",
     "timestamp": 1578078005589,
     "user": {
      "displayName": "",
      "photoUrl": "",
      "userId": ""
     },
     "user_tz": -330
    },
    "id": "BOwsuGQQY9OL",
    "outputId": "be6cfa25-16f5-4f8a-a43d-6fa2d5bfbcae"
   },
   "outputs": [
    {
     "name": "stderr",
     "output_type": "stream",
     "text": [
      "Using TensorFlow backend.\n"
     ]
    }
   ],
   "source": [
    "import keras\n",
    "import tensorflow as tf\n",
    "from tensorflow.keras.preprocessing.sequence import pad_sequences\n",
    "from tensorflow.keras.layers import Embedding, LSTM, Dense, Dropout, Bidirectional\n",
    "from keras.layers import CuDNNLSTM\n",
    "from tensorflow.keras.preprocessing.text import Tokenizer\n",
    "from tensorflow.keras.models import Sequential\n",
    "from tensorflow.keras.optimizers import Adam\n",
    "from tensorflow.keras import regularizers\n",
    "import tensorflow.keras.utils as ku \n",
    "import numpy as np"
   ]
  },
  {
   "cell_type": "code",
   "execution_count": 2,
   "metadata": {},
   "outputs": [],
   "source": [
    "data = open(r'C:/Users/Abhishek/Desktop/Files/shakespeare.txt').read()\n",
    "\n",
    "corpus = data.lower().split(\"\\n\")\n",
    "\n",
    "tokenizer = Tokenizer()\n",
    "tokenizer.fit_on_texts(corpus)\n",
    "total_words = len(tokenizer.word_index) + 1\n",
    "\n",
    "# create input sequences using list of tokens\n",
    "input_sequences = []\n",
    "for line in corpus:\n",
    "    token_list = tokenizer.texts_to_sequences([line])[0]\n",
    "    for i in range(1, len(token_list)):\n",
    "        n_gram_sequence = token_list[:i+1]\n",
    "        input_sequences.append(n_gram_sequence)\n",
    "\n",
    "print(\"An example of input sequence\",input_sequences[10])"
   ]
  },
  {
   "cell_type": "code",
   "execution_count": 3,
   "metadata": {},
   "outputs": [],
   "source": [
    "# pad sequences \n",
    "max_sequence_len = max([len(x) for x in input_sequences])\n",
    "input_sequences = np.array(pad_sequences(input_sequences, maxlen=max_sequence_len, padding='pre'))\n",
    "\n",
    "# create predictors and label\n",
    "predictors, label = input_sequences[:,:-1],input_sequences[:,-1]\n",
    "\n",
    "label = ku.to_categorical(label, num_classes=total_words)"
   ]
  },
  {
   "cell_type": "code",
   "execution_count": 4,
   "metadata": {
    "colab": {
     "base_uri": "https://localhost:8080/",
     "height": 661
    },
    "colab_type": "code",
    "executionInfo": {
     "elapsed": 1741,
     "status": "ok",
     "timestamp": 1578078051091,
     "user": {
      "displayName": "",
      "photoUrl": "",
      "userId": ""
     },
     "user_tz": -330
    },
    "id": "w9vH8Y59ajYL",
    "outputId": "44d0108e-314e-4c3e-c7c5-7ee5ab377ad9"
   },
   "outputs": [
    {
     "name": "stderr",
     "output_type": "stream",
     "text": [
      "WARNING: Logging before flag parsing goes to stderr.\n",
      "W0106 00:52:29.415555 14296 tf_logging.py:161] <tensorflow.python.keras.layers.recurrent.UnifiedLSTM object at 0x00000140D62A6438>: Note that this layer is not optimized for performance. Please use tf.keras.layers.CuDNNLSTM for better performance on GPU.\n",
      "W0106 00:52:29.417548 14296 tf_logging.py:161] <tensorflow.python.keras.layers.recurrent.UnifiedLSTM object at 0x00000140D6F9F048>: Note that this layer is not optimized for performance. Please use tf.keras.layers.CuDNNLSTM for better performance on GPU.\n",
      "W0106 00:52:29.680428 14296 tf_logging.py:161] <tensorflow.python.keras.layers.recurrent.UnifiedLSTM object at 0x00000140D6F9FBE0>: Note that this layer is not optimized for performance. Please use tf.keras.layers.CuDNNLSTM for better performance on GPU.\n"
     ]
    },
    {
     "name": "stdout",
     "output_type": "stream",
     "text": [
      "Model: \"sequential\"\n",
      "_________________________________________________________________\n",
      "Layer (type)                 Output Shape              Param #   \n",
      "=================================================================\n",
      "embedding (Embedding)        (None, 10, 100)           319800    \n",
      "_________________________________________________________________\n",
      "bidirectional (Bidirectional (None, 10, 300)           301200    \n",
      "_________________________________________________________________\n",
      "dropout (Dropout)            (None, 10, 300)           0         \n",
      "_________________________________________________________________\n",
      "unified_lstm_1 (UnifiedLSTM) (None, 100)               160400    \n",
      "_________________________________________________________________\n",
      "dense (Dense)                (None, 1599)              161499    \n",
      "_________________________________________________________________\n",
      "dense_1 (Dense)              (None, 3198)              5116800   \n",
      "=================================================================\n",
      "Total params: 6,059,699\n",
      "Trainable params: 6,059,699\n",
      "Non-trainable params: 0\n",
      "_________________________________________________________________\n",
      "None\n"
     ]
    }
   ],
   "source": [
    "model = Sequential()\n",
    "\n",
    "model.add(Embedding(total_words, 100, input_length=max_sequence_len-1))\n",
    "\n",
    "model.add(Bidirectional(LSTM(150, return_sequences = True)))\n",
    "model.add(Dropout(0.2))\n",
    "\n",
    "model.add(LSTM(100))\n",
    "\n",
    "model.add(Dense(total_words/2, activation='relu', kernel_regularizer=regularizers.l2(0.01)))\n",
    "model.add(Dense(total_words, activation='softmax'))\n",
    "\n",
    "model.compile(loss='categorical_crossentropy', optimizer='adam', metrics=['accuracy'])\n",
    "print(model.summary())"
   ]
  },
  {
   "cell_type": "code",
   "execution_count": 5,
   "metadata": {
    "colab": {
     "base_uri": "https://localhost:8080/",
     "height": 1000
    },
    "colab_type": "code",
    "executionInfo": {
     "elapsed": 1894155,
     "status": "ok",
     "timestamp": 1578079957555,
     "user": {
      "displayName": "",
      "photoUrl": "",
      "userId": ""
     },
     "user_tz": -330
    },
    "id": "AIg2f1HBxqof",
    "outputId": "5362e9d0-c876-477b-b596-97fe3aaf5836",
    "scrolled": true
   },
   "outputs": [
    {
     "name": "stdout",
     "output_type": "stream",
     "text": [
      "Epoch 1/100\n",
      "15514/15514 [==============================] - 7s 437us/sample - loss: 6.8829 - accuracy: 0.0219\n",
      "Epoch 2/100\n",
      "15514/15514 [==============================] - 5s 333us/sample - loss: 6.4837 - accuracy: 0.0209\n",
      "Epoch 3/100\n",
      "15514/15514 [==============================] - 6s 355us/sample - loss: 6.3866 - accuracy: 0.0231\n",
      "Epoch 4/100\n",
      "15514/15514 [==============================] - 5s 348us/sample - loss: 6.2655 - accuracy: 0.0272\n",
      "Epoch 5/100\n",
      "15514/15514 [==============================] - 5s 337us/sample - loss: 6.1610 - accuracy: 0.0340\n",
      "Epoch 6/100\n",
      "15514/15514 [==============================] - 5s 328us/sample - loss: 6.0730 - accuracy: 0.0374\n",
      "Epoch 7/100\n",
      "15514/15514 [==============================] - 5s 329us/sample - loss: 5.9891 - accuracy: 0.0405\n",
      "Epoch 8/100\n",
      "15514/15514 [==============================] - 5s 329us/sample - loss: 5.9043 - accuracy: 0.0448\n",
      "Epoch 9/100\n",
      "15514/15514 [==============================] - 5s 335us/sample - loss: 5.8051 - accuracy: 0.0501\n",
      "Epoch 10/100\n",
      "15514/15514 [==============================] - 5s 330us/sample - loss: 5.6952 - accuracy: 0.0590\n",
      "Epoch 11/100\n",
      "15514/15514 [==============================] - 5s 342us/sample - loss: 5.5821 - accuracy: 0.0652\n",
      "Epoch 12/100\n",
      "15514/15514 [==============================] - 5s 347us/sample - loss: 5.4716 - accuracy: 0.0706\n",
      "Epoch 13/100\n",
      "15514/15514 [==============================] - 5s 342us/sample - loss: 5.3658 - accuracy: 0.0783\n",
      "Epoch 14/100\n",
      "15514/15514 [==============================] - 5s 336us/sample - loss: 5.2610 - accuracy: 0.0856\n",
      "Epoch 15/100\n",
      "15514/15514 [==============================] - 5s 337us/sample - loss: 5.1581 - accuracy: 0.0919\n",
      "Epoch 16/100\n",
      "15514/15514 [==============================] - 5s 338us/sample - loss: 5.0608 - accuracy: 0.0989\n",
      "Epoch 17/100\n",
      "15514/15514 [==============================] - 5s 336us/sample - loss: 4.9606 - accuracy: 0.1065\n",
      "Epoch 18/100\n",
      "15514/15514 [==============================] - 5s 336us/sample - loss: 4.8694 - accuracy: 0.1114\n",
      "Epoch 19/100\n",
      "15514/15514 [==============================] - 5s 337us/sample - loss: 4.7741 - accuracy: 0.1229\n",
      "Epoch 20/100\n",
      "15514/15514 [==============================] - 5s 336us/sample - loss: 4.6862 - accuracy: 0.1325\n",
      "Epoch 21/100\n",
      "15514/15514 [==============================] - 5s 336us/sample - loss: 4.5862 - accuracy: 0.1401\n",
      "Epoch 22/100\n",
      "15514/15514 [==============================] - 5s 336us/sample - loss: 4.4955 - accuracy: 0.1507\n",
      "Epoch 23/100\n",
      "15514/15514 [==============================] - 5s 338us/sample - loss: 4.4008 - accuracy: 0.1602\n",
      "Epoch 24/100\n",
      "15514/15514 [==============================] - 5s 340us/sample - loss: 4.3095 - accuracy: 0.1706\n",
      "Epoch 25/100\n",
      "15514/15514 [==============================] - 5s 338us/sample - loss: 4.2027 - accuracy: 0.1851\n",
      "Epoch 26/100\n",
      "15514/15514 [==============================] - 5s 339us/sample - loss: 4.1113 - accuracy: 0.1943\n",
      "Epoch 27/100\n",
      "15514/15514 [==============================] - 5s 337us/sample - loss: 4.0226 - accuracy: 0.2072\n",
      "Epoch 28/100\n",
      "15514/15514 [==============================] - 5s 337us/sample - loss: 3.9214 - accuracy: 0.2233\n",
      "Epoch 29/100\n",
      "15514/15514 [==============================] - 5s 337us/sample - loss: 3.8270 - accuracy: 0.2335\n",
      "Epoch 30/100\n",
      "15514/15514 [==============================] - 5s 336us/sample - loss: 3.7315 - accuracy: 0.2557\n",
      "Epoch 31/100\n",
      "15514/15514 [==============================] - 5s 336us/sample - loss: 3.6455 - accuracy: 0.2680\n",
      "Epoch 32/100\n",
      "15514/15514 [==============================] - 5s 336us/sample - loss: 3.5662 - accuracy: 0.2886\n",
      "Epoch 33/100\n",
      "15514/15514 [==============================] - 5s 336us/sample - loss: 3.4763 - accuracy: 0.3016\n",
      "Epoch 34/100\n",
      "15514/15514 [==============================] - 5s 338us/sample - loss: 3.3888 - accuracy: 0.3211\n",
      "Epoch 35/100\n",
      "15514/15514 [==============================] - 5s 338us/sample - loss: 3.3185 - accuracy: 0.3399\n",
      "Epoch 36/100\n",
      "15514/15514 [==============================] - 5s 341us/sample - loss: 3.2312 - accuracy: 0.3592\n",
      "Epoch 37/100\n",
      "15514/15514 [==============================] - 5s 338us/sample - loss: 3.1626 - accuracy: 0.3736\n",
      "Epoch 38/100\n",
      "15514/15514 [==============================] - 5s 339us/sample - loss: 3.0836 - accuracy: 0.3911\n",
      "Epoch 39/100\n",
      "15514/15514 [==============================] - 5s 346us/sample - loss: 3.0126 - accuracy: 0.4111\n",
      "Epoch 40/100\n",
      "15514/15514 [==============================] - 5s 345us/sample - loss: 2.9481 - accuracy: 0.4250\n",
      "Epoch 41/100\n",
      "15514/15514 [==============================] - 6s 358us/sample - loss: 2.8878 - accuracy: 0.4353\n",
      "Epoch 42/100\n",
      "15514/15514 [==============================] - 6s 363us/sample - loss: 2.8224 - accuracy: 0.4485 - loss: 2.811\n",
      "Epoch 43/100\n",
      "15514/15514 [==============================] - 6s 368us/sample - loss: 2.7632 - accuracy: 0.4606\n",
      "Epoch 44/100\n",
      "15514/15514 [==============================] - 6s 357us/sample - loss: 2.6967 - accuracy: 0.4820\n",
      "Epoch 45/100\n",
      "15514/15514 [==============================] - 5s 352us/sample - loss: 2.6367 - accuracy: 0.4934\n",
      "Epoch 46/100\n",
      "15514/15514 [==============================] - 5s 346us/sample - loss: 2.5809 - accuracy: 0.5061\n",
      "Epoch 47/100\n",
      "15514/15514 [==============================] - 5s 348us/sample - loss: 2.5396 - accuracy: 0.5143\n",
      "Epoch 48/100\n",
      "15514/15514 [==============================] - 6s 358us/sample - loss: 2.4859 - accuracy: 0.5260\n",
      "Epoch 49/100\n",
      "15514/15514 [==============================] - 6s 365us/sample - loss: 2.4305 - accuracy: 0.5391\n",
      "Epoch 50/100\n",
      "15514/15514 [==============================] - 5s 351us/sample - loss: 2.3894 - accuracy: 0.5519\n",
      "Epoch 51/100\n",
      "15514/15514 [==============================] - 5s 340us/sample - loss: 2.3383 - accuracy: 0.5623\n",
      "Epoch 52/100\n",
      "15514/15514 [==============================] - 5s 347us/sample - loss: 2.2979 - accuracy: 0.5722\n",
      "Epoch 53/100\n",
      "15514/15514 [==============================] - 5s 349us/sample - loss: 2.2443 - accuracy: 0.5842\n",
      "Epoch 54/100\n",
      "15514/15514 [==============================] - 6s 360us/sample - loss: 2.2024 - accuracy: 0.5913\n",
      "Epoch 55/100\n",
      "15514/15514 [==============================] - 5s 352us/sample - loss: 2.1758 - accuracy: 0.5953\n",
      "Epoch 56/100\n",
      "15514/15514 [==============================] - 5s 352us/sample - loss: 2.1316 - accuracy: 0.6071\n",
      "Epoch 57/100\n",
      "15514/15514 [==============================] - 6s 355us/sample - loss: 2.0876 - accuracy: 0.6213\n",
      "Epoch 58/100\n",
      "15514/15514 [==============================] - 6s 363us/sample - loss: 2.0565 - accuracy: 0.6257\n",
      "Epoch 59/100\n",
      "15514/15514 [==============================] - 6s 360us/sample - loss: 2.0283 - accuracy: 0.6270\n",
      "Epoch 60/100\n",
      "15514/15514 [==============================] - 6s 366us/sample - loss: 1.9892 - accuracy: 0.6399\n",
      "Epoch 61/100\n",
      "15514/15514 [==============================] - 5s 351us/sample - loss: 1.9370 - accuracy: 0.6524\n",
      "Epoch 62/100\n",
      "15514/15514 [==============================] - 5s 351us/sample - loss: 1.9193 - accuracy: 0.6580\n",
      "Epoch 63/100\n",
      "15514/15514 [==============================] - 5s 350us/sample - loss: 1.8835 - accuracy: 0.6629\n",
      "Epoch 64/100\n",
      "15514/15514 [==============================] - 5s 351us/sample - loss: 1.8429 - accuracy: 0.6735\n",
      "Epoch 65/100\n",
      "15514/15514 [==============================] - 5s 352us/sample - loss: 1.8211 - accuracy: 0.6746\n",
      "Epoch 66/100\n",
      "15514/15514 [==============================] - 6s 357us/sample - loss: 1.7965 - accuracy: 0.6789\n",
      "Epoch 67/100\n",
      "15514/15514 [==============================] - 5s 347us/sample - loss: 1.7581 - accuracy: 0.6896\n",
      "Epoch 68/100\n",
      "15514/15514 [==============================] - 6s 364us/sample - loss: 1.7364 - accuracy: 0.6951\n",
      "Epoch 69/100\n",
      "15514/15514 [==============================] - 6s 362us/sample - loss: 1.7074 - accuracy: 0.7005\n",
      "Epoch 70/100\n",
      "15514/15514 [==============================] - 5s 352us/sample - loss: 1.6876 - accuracy: 0.7042\n",
      "Epoch 71/100\n",
      "15514/15514 [==============================] - 5s 353us/sample - loss: 1.6674 - accuracy: 0.7066\n",
      "Epoch 72/100\n",
      "15514/15514 [==============================] - 5s 339us/sample - loss: 1.6386 - accuracy: 0.7161\n",
      "Epoch 73/100\n",
      "15514/15514 [==============================] - 5s 337us/sample - loss: 1.6154 - accuracy: 0.7183\n",
      "Epoch 74/100\n",
      "15514/15514 [==============================] - 5s 342us/sample - loss: 1.5959 - accuracy: 0.7209\n",
      "Epoch 75/100\n"
     ]
    },
    {
     "name": "stdout",
     "output_type": "stream",
     "text": [
      "15514/15514 [==============================] - 5s 341us/sample - loss: 1.5718 - accuracy: 0.7278\n",
      "Epoch 76/100\n",
      "15514/15514 [==============================] - 5s 336us/sample - loss: 1.5473 - accuracy: 0.7344\n",
      "Epoch 77/100\n",
      "15514/15514 [==============================] - 5s 333us/sample - loss: 1.5154 - accuracy: 0.7364\n",
      "Epoch 78/100\n",
      "15514/15514 [==============================] - 5s 333us/sample - loss: 1.5077 - accuracy: 0.7391\n",
      "Epoch 79/100\n",
      "15514/15514 [==============================] - 5s 334us/sample - loss: 1.4745 - accuracy: 0.7453\n",
      "Epoch 80/100\n",
      "15514/15514 [==============================] - 5s 337us/sample - loss: 1.4711 - accuracy: 0.7471\n",
      "Epoch 81/100\n",
      "15514/15514 [==============================] - 5s 339us/sample - loss: 1.4511 - accuracy: 0.7493\n",
      "Epoch 82/100\n",
      "15514/15514 [==============================] - 5s 339us/sample - loss: 1.4352 - accuracy: 0.7526\n",
      "Epoch 83/100\n",
      "15514/15514 [==============================] - 5s 343us/sample - loss: 1.4288 - accuracy: 0.7542\n",
      "Epoch 84/100\n",
      "15514/15514 [==============================] - 5s 335us/sample - loss: 1.3992 - accuracy: 0.7570\n",
      "Epoch 85/100\n",
      "15514/15514 [==============================] - 5s 331us/sample - loss: 1.3831 - accuracy: 0.7612\n",
      "Epoch 86/100\n",
      "15514/15514 [==============================] - 5s 335us/sample - loss: 1.3601 - accuracy: 0.7663\n",
      "Epoch 87/100\n",
      "15514/15514 [==============================] - 5s 350us/sample - loss: 1.3408 - accuracy: 0.7670\n",
      "Epoch 88/100\n",
      "15514/15514 [==============================] - 5s 348us/sample - loss: 1.3457 - accuracy: 0.7665\n",
      "Epoch 89/100\n",
      "15514/15514 [==============================] - 5s 349us/sample - loss: 1.3204 - accuracy: 0.7739\n",
      "Epoch 90/100\n",
      "15514/15514 [==============================] - 5s 336us/sample - loss: 1.3072 - accuracy: 0.7746\n",
      "Epoch 91/100\n",
      "15514/15514 [==============================] - 5s 336us/sample - loss: 1.3029 - accuracy: 0.7777\n",
      "Epoch 92/100\n",
      "15514/15514 [==============================] - 5s 337us/sample - loss: 1.2818 - accuracy: 0.7796\n",
      "Epoch 93/100\n",
      "15514/15514 [==============================] - 5s 339us/sample - loss: 1.2649 - accuracy: 0.7821\n",
      "Epoch 94/100\n",
      "15514/15514 [==============================] - 5s 343us/sample - loss: 1.2672 - accuracy: 0.7790\n",
      "Epoch 95/100\n",
      "15514/15514 [==============================] - 5s 342us/sample - loss: 1.2495 - accuracy: 0.7832\n",
      "Epoch 96/100\n",
      "15514/15514 [==============================] - 5s 336us/sample - loss: 1.2280 - accuracy: 0.7903\n",
      "Epoch 97/100\n",
      "15514/15514 [==============================] - 5s 336us/sample - loss: 1.2134 - accuracy: 0.7910\n",
      "Epoch 98/100\n",
      "15514/15514 [==============================] - 5s 336us/sample - loss: 1.2234 - accuracy: 0.7866\n",
      "Epoch 99/100\n",
      "15514/15514 [==============================] - 5s 338us/sample - loss: 1.2101 - accuracy: 0.7901\n",
      "Epoch 100/100\n",
      "15514/15514 [==============================] - 5s 345us/sample - loss: 1.1809 - accuracy: 0.7969\n"
     ]
    }
   ],
   "source": [
    " history = model.fit(predictors, label, epochs=100, verbose=1)"
   ]
  },
  {
   "cell_type": "code",
   "execution_count": 8,
   "metadata": {
    "colab": {
     "base_uri": "https://localhost:8080/",
     "height": 545
    },
    "colab_type": "code",
    "executionInfo": {
     "elapsed": 1704,
     "status": "ok",
     "timestamp": 1578079984058,
     "user": {
      "displayName": "",
      "photoUrl": "",
      "userId": ""
     },
     "user_tz": -330
    },
    "id": "1fXTEO3GJ282",
    "outputId": "b1730312-5d4a-4bdc-a4bf-14f3fd20cafd"
   },
   "outputs": [
    {
     "data": {
      "image/png": "[encoded data removed]",
      "text/plain": [
       "<Figure size 432x288 with 1 Axes>"
      ]
     },
     "metadata": {
      "needs_background": "light"
     },
     "output_type": "display_data"
    },
    {
     "data": {
      "image/png": "[encoded data removed]",
      "text/plain": [
       "<Figure size 432x288 with 1 Axes>"
      ]
     },
     "metadata": {
      "needs_background": "light"
     },
     "output_type": "display_data"
    }
   ],
   "source": [
    "import matplotlib.pyplot as plt\n",
    "acc = history.history['accuracy']\n",
    "loss = history.history['loss']\n",
    "\n",
    "epochs = range(len(acc))\n",
    "\n",
    "plt.plot(epochs, acc, 'b', label='Training accuracy')\n",
    "plt.title('Training accuracy')\n",
    "\n",
    "plt.figure()\n",
    "\n",
    "plt.plot(epochs, loss, 'b', label='Training Loss')\n",
    "plt.title('Training loss')\n",
    "plt.legend()\n",
    "\n",
    "plt.show()"
   ]
  },
  {
   "cell_type": "code",
   "execution_count": 7,
   "metadata": {
    "colab": {
     "base_uri": "https://localhost:8080/",
     "height": 55
    },
    "colab_type": "code",
    "executionInfo": {
     "elapsed": 2674,
     "status": "ok",
     "timestamp": 1578079992351,
     "user": {
      "displayName": "",
      "photoUrl": "",
      "userId": ""
     },
     "user_tz": -330
    },
    "id": "6Vc6PHgxa6Hm",
    "outputId": "8ed1897b-cced-4993-9fa3-163d198ec3b9"
   },
   "outputs": [
    {
     "name": "stdout",
     "output_type": "stream",
     "text": [
      "Help me Obi Wan Kenobi, you're my only hope full too because thou catch life false in him for thine strong state or youth before thee last so young old treasure twain die one bright tongue life back was there more holy part or foes slow behind such out in one hell did west by him new light open wide slow sadly sadly burned ' kill me thence commend look so forsworn me him so great level still ill worth strong faith prove me more than youth in thee was down what sin still still slain grows doth about fade cold ' grew it was bettering youth still or\n"
     ]
    }
   ],
   "source": [
    "seed_text = \"Help me Obi Wan Kenobi, you're my only hope\"\n",
    "next_words = 100\n",
    "  \n",
    "for _ in range(next_words):\n",
    "    token_list = tokenizer.texts_to_sequences([seed_text])[0]\n",
    "    token_list = pad_sequences([token_list], maxlen=max_sequence_len-1, padding='pre')\n",
    "    predicted = model.predict_classes(token_list, verbose=0)\n",
    "    output_word = \"\"\n",
    "    \n",
    "    for word, index in tokenizer.word_index.items():\n",
    "        if index == predicted:\n",
    "            output_word = word\n",
    "            break\n",
    "    seed_text += \" \" + output_word\n",
    "print(seed_text)"
   ]
  }
 ],
 "metadata": {
  "accelerator": "GPU",
  "colab": {
   "name": "Shakespeare_Answer.ipynb",
   "provenance": [
    {
     "file_id": "https://github.com/lmoroney/dlaicourse/blob/master/TensorFlow%20In%20Practice/Course%203%20-%20NLP/NLP_Week4_Exercise_Shakespeare_Answer.ipynb",
     "timestamp": 1578080696884
    },
    {
     "file_id": "1qmXwwCaT07-qviCiBV65lkus_KvwsyQI",
     "timestamp": 1559583256599
    },
    {
     "file_id": "1V60jn23JMcMpwhF-KvCTYIIfm4J2X6v5",
     "timestamp": 1558728367158
    }
   ]
  },
  "kernelspec": {
   "display_name": "Python 3",
   "language": "python",
   "name": "python3"
  },
  "language_info": {
   "codemirror_mode": {
    "name": "ipython",
    "version": 3
   },
   "file_extension": ".py",
   "mimetype": "text/x-python",
   "name": "python",
   "nbconvert_exporter": "python",
   "pygments_lexer": "ipython3",
   "version": "3.7.3"
  }
 },
 "nbformat": 4,
 "nbformat_minor": 1
}
